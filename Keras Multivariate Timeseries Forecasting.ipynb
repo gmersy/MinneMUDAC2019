{
 "cells": [
  {
   "cell_type": "code",
   "execution_count": 2,
   "metadata": {},
   "outputs": [],
   "source": [
    "import os\n",
    "import warnings  \n",
    "with warnings.catch_warnings():  \n",
    "    warnings.filterwarnings(\"ignore\",category=FutureWarning)\n",
    "    import tensorflow as tf\n",
    "    from tensorflow import keras\n",
    "    from tensorflow.keras.models import Sequential\n",
    "    from tensorflow.keras.layers import Dense, LSTM, Dropout\n",
    "    from tensorflow.keras.optimizers import Adam, RMSprop\n",
    "from pandas import read_csv, DataFrame, concat\n",
    "from datetime import datetime, timedelta\n",
    "import matplotlib.pyplot as pyplot\n",
    "from sklearn.preprocessing import MinMaxScaler, StandardScaler\n",
    "\n",
    "import numpy as np \n",
    "import pandas as pd \n",
    "from keras.utils import plot_model\n",
    "import pickle\n",
    "\n",
    "months = {'January': 1, 'February': 2, 'March': 3, 'April': 4, 'May': 5, \n",
    "          'June': 6, 'July': 7, 'August': 8, 'September': 9, 'October': 10,\n",
    "         'November': 11, 'December': 12}\n",
    "\n",
    "def encode(l):\n",
    "    encoded = []\n",
    "    for m in l:\n",
    "        for key, value in months.items():\n",
    "            if key == m:\n",
    "                encoded.append(value)\n",
    "    return encoded\n",
    "\n",
    "\n",
    "def parse(x):\n",
    "    return datetime.strptime(x, '%m/%d/%Y')\n",
    "\n",
    "name = 'suppdemand_march'\n",
    "\n",
    "# Data Loading\n",
    "data_set = pd.read_csv('march2020clean.csv', sep =',', date_parser = parse)\n",
    "data_set = data_set.iloc[:data_set['totalSoybeanMealSupply'].last_valid_index(),:] # Truncate dataset to those where every data is available \n",
    "'''\n",
    "'closePrice','openPrice','highPrice','lowPrice','totalSoybeanMealSupply','totalSoybeanMealDemand','soybeanOilSupply','soybeanOilDemand','sunflowerSeedPrice','canolaPrice','peanutsPrice','flaxseedPrice','soybeanOilPrice','cottonseedOilPrice','sunflowerseedOilPrice','canolaOilPrice','peanutOilPrice','cornOilPrice','soybeanMealPrice','cottonseedmealPrice','sunflowerseedMealPrice','linseedMealPrice'\n",
    "'canolaOilPrice', 'soybeanOilPrice', 'soybeanMealPrice', 'cottonseedmealPrice', 'sunflowerseedMealPrice'\n",
    "'''\n",
    "target_cols = ['closePrice','totalSoybeanMealSupply','totalSoybeanMealDemand', 'Month']\n",
    "data_set['Month'] = encode(data_set['Month'])\n",
    "dates = data_set['date'].tolist()\n",
    "data_set = data_set.loc[:,target_cols]\n",
    "shift = 8"
   ]
  },
  {
   "cell_type": "code",
   "execution_count": 3,
   "metadata": {},
   "outputs": [],
   "source": [
    "values = data_set.values\n",
    "values = values.astype('float32')\n",
    "scaler = MinMaxScaler()\n",
    "scaled = scaler.fit_transform(values)"
   ]
  },
  {
   "cell_type": "code",
   "execution_count": 4,
   "metadata": {},
   "outputs": [
    {
     "name": "stdout",
     "output_type": "stream",
     "text": [
      "(1, 319, 4)\n",
      "(1, 319, 4)\n"
     ]
    }
   ],
   "source": [
    "def series_to_supervised(data, seq_length, y_col):\n",
    "    X = [] \n",
    "    Y = []\n",
    "    for time in range(len(data)-seq_length):\n",
    "        X += [data[time:time+seq_length]]\n",
    "        Y += [data[time+seq_length][y_col]]\n",
    "    \n",
    "    return X,Y\n",
    "\n",
    "\n",
    "data_x, data_y = scaled[:-shift], scaled[shift:]\n",
    "separation = int(len(data_x)*0.8)\n",
    "train_x, train_y = data_x[:separation], data_y[:separation]\n",
    "test_x, test_y = data_x[separation:], data_y[separation:]\n",
    "train_x = train_x.reshape(1, train_x.shape[0], train_x.shape[1])\n",
    "train_y = train_y.reshape(1, train_y.shape[0], train_y.shape[1])\n",
    "test_x = test_x.reshape(1, test_x.shape[0], test_x.shape[1])\n",
    "test_y = test_y.reshape(1, test_y.shape[0], test_y.shape[1])\n",
    "data_x = data_x.reshape(1, data_x.shape[0], data_x.shape[1])\n",
    "data_y = data_y.reshape(1, data_y.shape[0], data_y.shape[1])\n",
    "print(train_x.shape)\n",
    "print(train_y.shape)"
   ]
  },
  {
   "cell_type": "code",
   "execution_count": 5,
   "metadata": {},
   "outputs": [
    {
     "name": "stderr",
     "output_type": "stream",
     "text": [
      "WARNING: Logging before flag parsing goes to stderr.\n",
      "W1026 16:19:34.578802 18272 deprecation.py:506] From c:\\program files\\python37\\lib\\site-packages\\tensorflow\\python\\ops\\init_ops.py:1251: calling VarianceScaling.__init__ (from tensorflow.python.ops.init_ops) with dtype is deprecated and will be removed in a future version.\n",
      "Instructions for updating:\n",
      "Call initializer instance with the dtype argument instead of passing it to the constructor\n",
      "W1026 16:19:34.913643 18272 deprecation.py:323] From c:\\program files\\python37\\lib\\site-packages\\tensorflow\\python\\ops\\losses\\losses_impl.py:121: add_dispatch_support.<locals>.wrapper (from tensorflow.python.ops.array_ops) is deprecated and will be removed in a future version.\n",
      "Instructions for updating:\n",
      "Use tf.where in 2.0, which has the same broadcast rule as np.where\n"
     ]
    },
    {
     "data": {
      "image/png": "[encoded data removed]",
      "text/plain": [
       "<Figure size 432x288 with 1 Axes>"
      ]
     },
     "metadata": {
      "needs_background": "light"
     },
     "output_type": "display_data"
    }
   ],
   "source": [
    "# design network\n",
    "def loss_mse_warmup(y_true, y_pred):\n",
    "    \"\"\"\n",
    "    Calculate the Mean Squared Error between y_true and y_pred,\n",
    "    but ignore the beginning \"warmup\" part of the sequences.\n",
    "    \n",
    "    y_true is the desired output.\n",
    "    y_pred is the model's output.\n",
    "    \"\"\"\n",
    "    warmup_steps = 50\n",
    "    # The shape of both input tensors are:\n",
    "    # [batch_size, sequence_length, num_y_signals].\n",
    "\n",
    "    # Ignore the \"warmup\" parts of the sequences\n",
    "    # by taking slices of the tensors.\n",
    "    y_true_slice = y_true[:, warmup_steps:, :]\n",
    "    y_pred_slice = y_pred[:, warmup_steps:, :]\n",
    "\n",
    "    # These sliced tensors both have this shape:\n",
    "    # [batch_size, sequence_length - warmup_steps, num_y_signals]\n",
    "\n",
    "    # Calculate the MSE loss for each value in these tensors.\n",
    "    # This outputs a 3-rank tensor of the same shape.\n",
    "    loss = tf.losses.mean_squared_error(labels=y_true_slice,\n",
    "                                        predictions=y_pred_slice)\n",
    "\n",
    "    # Keras may reduce this across the first axis (the batch)\n",
    "    # but the semantics are unclear, so to be sure we use\n",
    "    # the loss across the entire tensor, we reduce it to a\n",
    "    # single scalar with the mean function.\n",
    "    loss_mean = tf.reduce_mean(loss)\n",
    "\n",
    "    return loss_mean\n",
    "\n",
    "regressor = Sequential()\n",
    "regressor.add(LSTM(units = 50, return_sequences = True, stateful = False, input_shape = (None, train_x.shape[2])))\n",
    "regressor.add(LSTM(units = 4, return_sequences = True, stateful = False))\n",
    "regressor.compile(optimizer = RMSprop(lr=1e-3), loss = loss_mse_warmup)\n",
    "\n",
    "history = regressor.fit(train_x, train_y, epochs = 3000, verbose=0)\n",
    "\n",
    "# plot history\n",
    "pyplot.plot(history.history['loss'], label='train')\n",
    "# pyplot.plot(history.history['val_loss'], label='test')\n",
    "pyplot.legend()\n",
    "pyplot.show()\n",
    "# print(model.get_weights())"
   ]
  },
  {
   "cell_type": "code",
   "execution_count": 33,
   "metadata": {},
   "outputs": [
    {
     "data": {
      "image/png": "[encoded data removed]",
      "text/plain": [
       "<Figure size 432x288 with 1 Axes>"
      ]
     },
     "metadata": {
      "needs_background": "light"
     },
     "output_type": "display_data"
    }
   ],
   "source": [
    "newModel = Sequential()\n",
    "newModel.add(LSTM(units = 50, return_sequences = True, stateful = True, batch_input_shape = (1, None, train_x.shape[2])))\n",
    "newModel.add(LSTM(units = 4, return_sequences = False, stateful = True))\n",
    "\n",
    "newModel.set_weights(regressor.get_weights())\n",
    "forecast_length = 200 \n",
    "\n",
    "forecastFromSelf = np.empty((1, train_x.shape[1] + forecast_length, train_x.shape[2]))\n",
    "forecastData = np.empty((1, train_x.shape[1] + forecast_length, train_x.shape[2]))\n",
    "forecastData[:,:train_x.shape[1], :] = train_x[:,:,:]\n",
    "for i in range(train_x.shape[1]+forecast_length):\n",
    "    input_data = forecastData[:,i:i+1,:]\n",
    "    forecastFromSelf[:,i:i+1,:] = newModel.predict(forecastData[:,i:i+1,:])\n",
    "    output_data = forecastFromSelf[:,i:i+1,:]\n",
    "    if i + shift >= train_x.shape[1] and i + shift < forecastData.shape[1]:\n",
    "        forecastData[:,i+shift:i+shift+1,:] = forecastFromSelf[:,i:i+1,:]\n",
    "\n",
    "y_hat = scaler.inverse_transform(forecastFromSelf.reshape((forecastFromSelf.shape[1],forecastFromSelf.shape[2])))\n",
    "\n",
    "a = pyplot.figure()\n",
    "b = data_y\n",
    "b = b.reshape(b.shape[1], b.shape[2])\n",
    "b = scaler.inverse_transform(b)\n",
    "pyplot.plot(b[:,0], label='Actual')\n",
    "pyplot.plot(y_hat[:,0], label='Forecast')\n",
    "pyplot.legend()\n",
    "pyplot.show()\n",
    "\n",
    "a.savefig(fname='./data/{}.png'.format(name))\n"
   ]
  },
  {
   "cell_type": "code",
   "execution_count": 31,
   "metadata": {},
   "outputs": [],
   "source": [
    "# Export data \n",
    "\n",
    "import math\n",
    "regressor.save(open('pickles/model.p', 'wb'))\n",
    "\n",
    "# Extend calendar to fit forecast_length\n",
    "add_weeks = math.ceil(forecast_length/5)\n",
    "\n",
    "\n",
    "data_set = pd.read_csv('march2020clean.csv', sep =',', date_parser = parse)\n",
    "dates = data_set['date'].tolist()\n",
    "\n",
    "for i in range(len(dates)):\n",
    "    dates[i] = parse(dates[i])\n",
    "    \n",
    "last_week = dates[-5:]\n",
    "\n",
    "for i in range(add_weeks):\n",
    "    dates += [x + timedelta(days = 7) for x in last_week]\n",
    "    last_week = dates[-5:]\n",
    "    \n",
    "dates = dates[:y_hat.shape[0]]\n",
    "output_dict = {'Date':dates}\n",
    "for i, col in enumerate(target_cols):\n",
    "    output_dict[col] = y_hat[:,i]\n",
    "\n",
    "\n",
    "output_df = DataFrame(output_dict, columns=['Date']+target_cols)\n",
    "output_df.to_csv('./data/{}.csv'.format(name))"
   ]
  }
 ],
 "metadata": {
  "file_extension": ".py",
  "kernelspec": {
   "display_name": "Python 3",
   "language": "python",
   "name": "python3"
  },
  "language_info": {
   "codemirror_mode": {
    "name": "ipython",
    "version": 3
   },
   "file_extension": ".py",
   "mimetype": "text/x-python",
   "name": "python",
   "nbconvert_exporter": "python",
   "pygments_lexer": "ipython3",
   "version": "3.7.0"
  },
  "mimetype": "text/x-python",
  "name": "python",
  "npconvert_exporter": "python",
  "pygments_lexer": "ipython3",
  "version": 3
 },
 "nbformat": 4,
 "nbformat_minor": 4
}
