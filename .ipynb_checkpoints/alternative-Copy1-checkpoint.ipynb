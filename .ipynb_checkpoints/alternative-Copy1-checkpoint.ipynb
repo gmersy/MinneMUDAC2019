{
 "cells": [
  {
   "cell_type": "code",
   "execution_count": 221,
   "metadata": {},
   "outputs": [],
   "source": [
    "from pandas import read_csv, DataFrame, concat\n",
    "from datetime import datetime\n",
    "import matplotlib.pyplot as pyplot\n",
    "from sklearn.preprocessing import MinMaxScaler, StandardScaler\n",
    "import tensorflow as tf\n",
    "from tensorflow import keras\n",
    "from tensorflow.keras.models import Sequential\n",
    "from tensorflow.keras.layers import Dense, LSTM, Dropout\n",
    "from tensorflow.keras.optimizers import Adam\n",
    "import numpy as np \n",
    "import pandas as pd \n",
    "\n",
    "\n",
    "\n",
    "months = {'January': 1, 'February': 2, 'March': 3, 'April': 4, 'May': 5, \n",
    "          'June': 6, 'July': 7, 'August': 8, 'September': 9, 'October': 10,\n",
    "         'November': 11, 'December': 12}\n",
    "\n",
    "def encode(l):\n",
    "    encoded = []\n",
    "    for m in l:\n",
    "        for key, value in months.items():\n",
    "            if key == m:\n",
    "                encoded.append(value)\n",
    "    return encoded\n",
    "\n",
    "\n",
    "def parse(x):\n",
    "    return datetime.strptime(x, '%m/%d/%Y')\n",
    "\n",
    "# Data Loading\n",
    "data_set = pd.read_csv('march2020clean.csv', sep =',', date_parser = parse)\n",
    "data_set = data_set.iloc[:data_set['totalSoybeanMealSupply'].last_valid_index(),:] # Truncate dataset to those where every data is available \n",
    "'''\n",
    "'closePrice','openPrice','highPrice','lowPrice','totalSoybeanMealSupply','totalSoybeanMealDemand','soybeanOilSupply','soybeanOilDemand','sunflowerSeedPrice','canolaPrice','peanutsPrice','flaxseedPrice','soybeanOilPrice','cottonseedOilPrice','sunflowerseedOilPrice','canolaOilPrice','peanutOilPrice','cornOilPrice','soybeanMealPrice','cottonseedmealPrice','sunflowerseedMealPrice','linseedMealPrice'\n",
    "'''\n",
    "target_col = ['closePrice','totalSoybeanMealSupply','totalSoybeanMealDemand', 'Month']\n",
    "data_set['Month'] = encode(data_set['Month'])\n",
    "data_set = data_set.loc[:,target_col]\n",
    "shift = 30"
   ]
  },
  {
   "cell_type": "code",
   "execution_count": 222,
   "metadata": {},
   "outputs": [],
   "source": [
    "data_set\n",
    "values = data_set.values\n",
    "values = values.astype('float32')\n",
    "scaler = MinMaxScaler()\n",
    "scaled = scaler.fit_transform(values)\n",
    "scaler2 = MinMaxScaler()\n",
    "scaled2 = scaler2.fit_transform(values[:,0].reshape(-1,1))\n"
   ]
  },
  {
   "cell_type": "code",
   "execution_count": 223,
   "metadata": {},
   "outputs": [
    {
     "name": "stdout",
     "output_type": "stream",
     "text": [
      "(301, 30, 4)\n",
      "(301, 4)\n"
     ]
    }
   ],
   "source": [
    "def series_to_supervised(data, seq_length, y_col):\n",
    "    X = [] \n",
    "    Y = []\n",
    "    for time in range(len(data)-seq_length):\n",
    "        X += [data[time:time+seq_length]]\n",
    "        Y += [data[time+seq_length][y_col]]\n",
    "    \n",
    "    return X,Y\n",
    "\n",
    "data_x, data_y = series_to_supervised(scaled,shift,[0,1,2,3])\n",
    "data_x, data_y = np.asarray(data_x), np.asarray(data_y)\n",
    "train_count = int(len(data_x) * 0.8)\n",
    "\n",
    "train_x, train_y = data_x[:train_count,:,:], data_y[:train_count]\n",
    "test_x, test_y = data_x[train_count:,:,:], data_y[train_count:]\n",
    "print(train_x.shape)\n",
    "print(train_y.shape)"
   ]
  },
  {
   "cell_type": "code",
   "execution_count": 224,
   "metadata": {},
   "outputs": [
    {
     "name": "stdout",
     "output_type": "stream",
     "text": [
      "Train on 301 samples, validate on 76 samples\n",
      "Epoch 1/50\n",
      "301/301 - 12s - loss: 0.2678 - val_loss: 0.0585\n",
      "Epoch 2/50\n",
      "301/301 - 1s - loss: 0.0961 - val_loss: 0.0465\n",
      "Epoch 3/50\n",
      "301/301 - 1s - loss: 0.0685 - val_loss: 0.0310\n",
      "Epoch 4/50\n",
      "301/301 - 1s - loss: 0.0527 - val_loss: 0.0337\n",
      "Epoch 5/50\n",
      "301/301 - 1s - loss: 0.0464 - val_loss: 0.0319\n",
      "Epoch 6/50\n",
      "301/301 - 1s - loss: 0.0418 - val_loss: 0.0292\n",
      "Epoch 7/50\n",
      "301/301 - 1s - loss: 0.0380 - val_loss: 0.0273\n",
      "Epoch 8/50\n",
      "301/301 - 1s - loss: 0.0355 - val_loss: 0.0271\n",
      "Epoch 9/50\n",
      "301/301 - 1s - loss: 0.0344 - val_loss: 0.0245\n",
      "Epoch 10/50\n",
      "301/301 - 1s - loss: 0.0307 - val_loss: 0.0257\n",
      "Epoch 11/50\n",
      "301/301 - 1s - loss: 0.0297 - val_loss: 0.0239\n",
      "Epoch 12/50\n",
      "301/301 - 1s - loss: 0.0303 - val_loss: 0.0223\n",
      "Epoch 13/50\n",
      "301/301 - 1s - loss: 0.0277 - val_loss: 0.0229\n",
      "Epoch 14/50\n",
      "301/301 - 1s - loss: 0.0294 - val_loss: 0.0206\n",
      "Epoch 15/50\n",
      "301/301 - 1s - loss: 0.0254 - val_loss: 0.0210\n",
      "Epoch 16/50\n",
      "301/301 - 1s - loss: 0.0246 - val_loss: 0.0189\n",
      "Epoch 17/50\n",
      "301/301 - 1s - loss: 0.0255 - val_loss: 0.0188\n",
      "Epoch 18/50\n",
      "301/301 - 1s - loss: 0.0246 - val_loss: 0.0184\n",
      "Epoch 19/50\n",
      "301/301 - 1s - loss: 0.0249 - val_loss: 0.0170\n",
      "Epoch 20/50\n",
      "301/301 - 1s - loss: 0.0223 - val_loss: 0.0179\n",
      "Epoch 21/50\n",
      "301/301 - 1s - loss: 0.0209 - val_loss: 0.0162\n",
      "Epoch 22/50\n",
      "301/301 - 1s - loss: 0.0208 - val_loss: 0.0160\n",
      "Epoch 23/50\n",
      "301/301 - 1s - loss: 0.0219 - val_loss: 0.0157\n",
      "Epoch 24/50\n",
      "301/301 - 1s - loss: 0.0202 - val_loss: 0.0165\n",
      "Epoch 25/50\n",
      "301/301 - 1s - loss: 0.0227 - val_loss: 0.0158\n",
      "Epoch 26/50\n",
      "301/301 - 1s - loss: 0.0201 - val_loss: 0.0154\n",
      "Epoch 27/50\n",
      "301/301 - 1s - loss: 0.0194 - val_loss: 0.0155\n",
      "Epoch 28/50\n",
      "301/301 - 1s - loss: 0.0188 - val_loss: 0.0154\n",
      "Epoch 29/50\n",
      "301/301 - 1s - loss: 0.0195 - val_loss: 0.0151\n",
      "Epoch 30/50\n",
      "301/301 - 1s - loss: 0.0175 - val_loss: 0.0148\n",
      "Epoch 31/50\n",
      "301/301 - 1s - loss: 0.0202 - val_loss: 0.0155\n",
      "Epoch 32/50\n",
      "301/301 - 1s - loss: 0.0184 - val_loss: 0.0147\n",
      "Epoch 33/50\n",
      "301/301 - 1s - loss: 0.0188 - val_loss: 0.0147\n",
      "Epoch 34/50\n",
      "301/301 - 1s - loss: 0.0193 - val_loss: 0.0148\n",
      "Epoch 35/50\n",
      "301/301 - 1s - loss: 0.0178 - val_loss: 0.0144\n",
      "Epoch 36/50\n",
      "301/301 - 1s - loss: 0.0166 - val_loss: 0.0140\n",
      "Epoch 37/50\n",
      "301/301 - 1s - loss: 0.0164 - val_loss: 0.0141\n",
      "Epoch 38/50\n",
      "301/301 - 1s - loss: 0.0174 - val_loss: 0.0143\n",
      "Epoch 39/50\n",
      "301/301 - 1s - loss: 0.0176 - val_loss: 0.0157\n",
      "Epoch 40/50\n",
      "301/301 - 1s - loss: 0.0166 - val_loss: 0.0150\n",
      "Epoch 41/50\n",
      "301/301 - 1s - loss: 0.0161 - val_loss: 0.0139\n",
      "Epoch 42/50\n",
      "301/301 - 1s - loss: 0.0160 - val_loss: 0.0142\n",
      "Epoch 43/50\n",
      "301/301 - 1s - loss: 0.0158 - val_loss: 0.0142\n",
      "Epoch 44/50\n",
      "301/301 - 1s - loss: 0.0154 - val_loss: 0.0146\n",
      "Epoch 45/50\n",
      "301/301 - 1s - loss: 0.0163 - val_loss: 0.0158\n",
      "Epoch 46/50\n",
      "301/301 - 1s - loss: 0.0163 - val_loss: 0.0145\n",
      "Epoch 47/50\n",
      "301/301 - 1s - loss: 0.0159 - val_loss: 0.0141\n",
      "Epoch 48/50\n",
      "301/301 - 1s - loss: 0.0159 - val_loss: 0.0143\n",
      "Epoch 49/50\n",
      "301/301 - 1s - loss: 0.0147 - val_loss: 0.0136\n",
      "Epoch 50/50\n",
      "301/301 - 1s - loss: 0.0142 - val_loss: 0.0138\n"
     ]
    },
    {
     "data": {
      "image/png": "[encoded data removed]",
      "text/plain": [
       "<Figure size 432x288 with 1 Axes>"
      ]
     },
     "metadata": {
      "needs_background": "light"
     },
     "output_type": "display_data"
    }
   ],
   "source": [
    "# design network\n",
    "regressor = Sequential()\n",
    "regressor.add(LSTM(units = 64, return_sequences = False, stateful = False, input_shape = (train_x.shape[1], train_x.shape[2])))\n",
    "regressor.add(Dropout(0.1))\n",
    "regressor.add(Dense(units = 32, activation='relu'))\n",
    "regressor.add(Dropout(0.1))\n",
    "regressor.add(Dense(units = 4))\n",
    "regressor.compile(optimizer = 'adam', loss = 'mean_squared_error')\n",
    "\n",
    "history = regressor.fit(train_x, train_y, epochs = 50, batch_size = 32, validation_data=(test_x,test_y), verbose=2)\n",
    "\n",
    "# plot history\n",
    "pyplot.plot(history.history['loss'], label='train')\n",
    "pyplot.plot(history.history['val_loss'], label='test')\n",
    "pyplot.legend()\n",
    "pyplot.show()\n",
    "# print(model.get_weights())"
   ]
  },
  {
   "cell_type": "code",
   "execution_count": 167,
   "metadata": {},
   "outputs": [],
   "source": [
    "'''\n",
    "predictor = Sequential()\n",
    "predictor.add(LSTM(units = 50, stateful = True, batch_input_shape = (1, None, train_x.shape[2])))\n",
    "predictor.add(Dense(units = 3))\n",
    "predictor.compile(optimizer = 'adam', loss = 'mean_squared_error')\n",
    "\n",
    "predictor.set_weights(regressor.get_weights())\n",
    "\n",
    "'''"
   ]
  },
  {
   "cell_type": "code",
   "execution_count": 229,
   "metadata": {},
   "outputs": [
    {
     "name": "stdout",
     "output_type": "stream",
     "text": [
      "(707, 4)\n"
     ]
    },
    {
     "data": {
      "image/png": "[encoded data removed]",
      "text/plain": [
       "<Figure size 432x288 with 1 Axes>"
      ]
     },
     "metadata": {
      "needs_background": "light"
     },
     "output_type": "display_data"
    }
   ],
   "source": [
    "forecast_distance = 300\n",
    "\n",
    "x_given = scaled[:,:]\n",
    "\n",
    "x_hat = np.zeros((x_given.shape[0] + forecast_distance, x_given.shape[1]))\n",
    "x_hat[:len(x_given),:] = x_given \n",
    "y_hat = np.zeros((x_given.shape[0] + forecast_distance))\n",
    "print(x_hat.shape)\n",
    "for i in range(shift, len(x_given)+forecast_distance):\n",
    "    pred = regressor.predict(x_hat[i-shift:i,:].reshape(1,shift, x_given.shape[1]))\n",
    "    if i >= len(x_given):\n",
    "        x_hat[i,:] = pred \n",
    "    y_hat[i] = pred[0,0]\n",
    "    #predictor.reset_states()\n",
    "\n",
    "y_hat = y_hat[shift:]\n",
    "    \n",
    "yhat2 = regressor.predict(test_x)[:,0]\n",
    "\n",
    "# invert scaling for forecast\n",
    "inv_yhat = scaler2.inverse_transform(y_hat.reshape(-1,1))\n",
    "# invert scaling for forecast\n",
    "inv_yhat2 = scaler2.inverse_transform(yhat2.reshape(-1,1))\n",
    "# invert scaling for actual\n",
    "inv_y = scaler2.inverse_transform(np.concatenate((train_y[:,0],test_y[:,0]), axis=0).reshape(-1,1))\n",
    "\n",
    "\n",
    "pyplot.figure()\n",
    "pyplot.plot(inv_y, label = 'Actual')\n",
    "pyplot.plot(inv_yhat, label = 'Forecast')\n",
    "pyplot.plot(inv_yhat2, label = 'Forecast2')\n",
    "pyplot.legend()\n",
    "pyplot.show()"
   ]
  },
  {
   "cell_type": "code",
   "execution_count": null,
   "metadata": {},
   "outputs": [],
   "source": []
  }
 ],
 "metadata": {
  "file_extension": ".py",
  "kernelspec": {
   "display_name": "Python 3",
   "language": "python",
   "name": "python3"
  },
  "language_info": {
   "codemirror_mode": {
    "name": "ipython",
    "version": 3
   },
   "file_extension": ".py",
   "mimetype": "text/x-python",
   "name": "python",
   "nbconvert_exporter": "python",
   "pygments_lexer": "ipython3",
   "version": "3.7.0"
  },
  "mimetype": "text/x-python",
  "name": "python",
  "npconvert_exporter": "python",
  "pygments_lexer": "ipython3",
  "version": 3
 },
 "nbformat": 4,
 "nbformat_minor": 4
}
