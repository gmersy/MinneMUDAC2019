{
 "cells": [
  {
   "cell_type": "code",
   "execution_count": 137,
   "metadata": {},
   "outputs": [],
   "source": [
    "from pandas import read_csv, DataFrame, concat\n",
    "from datetime import datetime\n",
    "import matplotlib.pyplot as pyplot\n",
    "from sklearn.preprocessing import MinMaxScaler, StandardScaler\n",
    "import tensorflow as tf\n",
    "from tensorflow import keras\n",
    "from tensorflow.keras.models import Sequential\n",
    "from tensorflow.keras.layers import Dense, LSTM, Dropout\n",
    "import numpy as np \n",
    "import pandas as pd \n",
    "\n",
    "\n",
    "\n",
    "months = {'January': 1, 'February': 2, 'March': 3, 'April': 4, 'May': 5, \n",
    "          'June': 6, 'July': 7, 'August': 8, 'September': 9, 'October': 10,\n",
    "         'November': 11, 'December': 12}\n",
    "\n",
    "def encode(l):\n",
    "    encoded = []\n",
    "    for m in l:\n",
    "        for key, value in months.items():\n",
    "            if key == m:\n",
    "                encoded.append(value)\n",
    "    return encoded\n",
    "\n",
    "\n",
    "def parse(x):\n",
    "    return datetime.strptime(x, '%m/%d/%Y')\n",
    "\n",
    "# Data Loading\n",
    "data_set = pd.read_csv('march2020clean.csv', sep =',', date_parser = parse)\n",
    "data_set = data_set.iloc[:data_set['totalSoybeanMealSupply'].last_valid_index(),:] # Truncate dataset to those where every data is available \n",
    "'''\n",
    "'closePrice','openPrice','highPrice','lowPrice','totalSoybeanMealSupply','totalSoybeanMealDemand','soybeanOilSupply','soybeanOilDemand','sunflowerSeedPrice','canolaPrice','peanutsPrice','flaxseedPrice','soybeanOilPrice','cottonseedOilPrice','sunflowerseedOilPrice','canolaOilPrice','peanutOilPrice','cornOilPrice','soybeanMealPrice','cottonseedmealPrice','sunflowerseedMealPrice','linseedMealPrice'\n",
    "'''\n",
    "target_col = ['closePrice','totalSoybeanMealSupply','totalSoybeanMealDemand']\n",
    "data_set['Month'] = encode(data_set['Month'])\n",
    "data_set = data_set.loc[:,target_col]\n",
    "shift = 15"
   ]
  },
  {
   "cell_type": "code",
   "execution_count": 138,
   "metadata": {},
   "outputs": [],
   "source": [
    "data_set\n",
    "values = data_set.values\n",
    "values = values.astype('float32')\n",
    "scaler = StandardScaler()\n",
    "scaled = scaler.fit_transform(values)\n",
    "scaler2 = StandardScaler()\n",
    "scaled2 = scaler2.fit_transform(values[:,0].reshape(-1,1))\n"
   ]
  },
  {
   "cell_type": "code",
   "execution_count": 139,
   "metadata": {},
   "outputs": [
    {
     "name": "stdout",
     "output_type": "stream",
     "text": [
      "(313, 15, 3)\n",
      "(313, 3)\n"
     ]
    }
   ],
   "source": [
    "def series_to_supervised(data, seq_length, y_col):\n",
    "    X = [] \n",
    "    Y = []\n",
    "    for time in range(len(data)-seq_length):\n",
    "        X += [data[time:time+seq_length]]\n",
    "        Y += [data[time+seq_length][y_col]]\n",
    "    \n",
    "    return X,Y\n",
    "\n",
    "data_x, data_y = series_to_supervised(scaled,shift,[0,1,2])\n",
    "data_x, data_y = np.asarray(data_x), np.asarray(data_y)\n",
    "train_count = int(len(data_x) * 0.8)\n",
    "\n",
    "train_x, train_y = data_x[:train_count,:,:], data_y[:train_count]\n",
    "test_x, test_y = data_x[train_count:,:,:], data_y[train_count:]\n",
    "print(train_x.shape)\n",
    "print(train_y.shape)"
   ]
  },
  {
   "cell_type": "code",
   "execution_count": 140,
   "metadata": {},
   "outputs": [
    {
     "name": "stdout",
     "output_type": "stream",
     "text": [
      "Train on 313 samples, validate on 79 samples\n",
      "Epoch 1/50\n",
      "313/313 [==============================] - 4s 12ms/sample - loss: 0.6627 - val_loss: 1.5817\n",
      "Epoch 2/50\n",
      "313/313 [==============================] - 0s 574us/sample - loss: 0.4205 - val_loss: 1.2613\n",
      "Epoch 3/50\n",
      "313/313 [==============================] - 0s 459us/sample - loss: 0.3065 - val_loss: 1.0492\n",
      "Epoch 4/50\n",
      "313/313 [==============================] - 0s 447us/sample - loss: 0.2742 - val_loss: 0.8977\n",
      "Epoch 5/50\n",
      "313/313 [==============================] - 0s 434us/sample - loss: 0.2463 - val_loss: 0.7898\n",
      "Epoch 6/50\n",
      "313/313 [==============================] - 0s 460us/sample - loss: 0.2178 - val_loss: 0.6936\n",
      "Epoch 7/50\n",
      "313/313 [==============================] - 0s 549us/sample - loss: 0.1978 - val_loss: 0.6156\n",
      "Epoch 8/50\n",
      "313/313 [==============================] - 0s 434us/sample - loss: 0.1935 - val_loss: 0.5685\n",
      "Epoch 9/50\n",
      "313/313 [==============================] - 0s 383us/sample - loss: 0.1737 - val_loss: 0.5006\n",
      "Epoch 10/50\n",
      "313/313 [==============================] - 0s 383us/sample - loss: 0.1585 - val_loss: 0.4734\n",
      "Epoch 11/50\n",
      "313/313 [==============================] - 0s 434us/sample - loss: 0.1532 - val_loss: 0.4367\n",
      "Epoch 12/50\n",
      "313/313 [==============================] - 0s 421us/sample - loss: 0.1496 - val_loss: 0.4078\n",
      "Epoch 13/50\n",
      "313/313 [==============================] - 0s 396us/sample - loss: 0.1397 - val_loss: 0.3923\n",
      "Epoch 14/50\n",
      "313/313 [==============================] - 0s 357us/sample - loss: 0.1374 - val_loss: 0.3454\n",
      "Epoch 15/50\n",
      "313/313 [==============================] - 0s 370us/sample - loss: 0.1324 - val_loss: 0.3205\n",
      "Epoch 16/50\n",
      "313/313 [==============================] - 0s 421us/sample - loss: 0.1261 - val_loss: 0.3079\n",
      "Epoch 17/50\n",
      "313/313 [==============================] - 0s 383us/sample - loss: 0.1266 - val_loss: 0.3119\n",
      "Epoch 18/50\n",
      "313/313 [==============================] - 0s 357us/sample - loss: 0.1230 - val_loss: 0.3139\n",
      "Epoch 19/50\n",
      "313/313 [==============================] - 0s 345us/sample - loss: 0.1152 - val_loss: 0.2845\n",
      "Epoch 20/50\n",
      "313/313 [==============================] - 0s 383us/sample - loss: 0.1252 - val_loss: 0.2708\n",
      "Epoch 21/50\n",
      "313/313 [==============================] - 0s 383us/sample - loss: 0.1153 - val_loss: 0.3125\n",
      "Epoch 22/50\n",
      "313/313 [==============================] - 0s 383us/sample - loss: 0.1161 - val_loss: 0.2773\n",
      "Epoch 23/50\n",
      "313/313 [==============================] - 0s 370us/sample - loss: 0.1116 - val_loss: 0.2710\n",
      "Epoch 24/50\n",
      "313/313 [==============================] - 0s 383us/sample - loss: 0.1109 - val_loss: 0.2799\n",
      "Epoch 25/50\n",
      "313/313 [==============================] - 0s 357us/sample - loss: 0.1168 - val_loss: 0.2685\n",
      "Epoch 26/50\n",
      "313/313 [==============================] - 0s 357us/sample - loss: 0.1121 - val_loss: 0.2678\n",
      "Epoch 27/50\n",
      "313/313 [==============================] - 0s 383us/sample - loss: 0.1136 - val_loss: 0.2756\n",
      "Epoch 28/50\n",
      "313/313 [==============================] - 0s 383us/sample - loss: 0.1074 - val_loss: 0.2846\n",
      "Epoch 29/50\n",
      "313/313 [==============================] - 0s 370us/sample - loss: 0.1066 - val_loss: 0.2763\n",
      "Epoch 30/50\n",
      "313/313 [==============================] - 0s 345us/sample - loss: 0.1041 - val_loss: 0.2667\n",
      "Epoch 31/50\n",
      "313/313 [==============================] - 0s 345us/sample - loss: 0.1054 - val_loss: 0.2777\n",
      "Epoch 32/50\n",
      "313/313 [==============================] - 0s 370us/sample - loss: 0.1092 - val_loss: 0.2881\n",
      "Epoch 33/50\n",
      "313/313 [==============================] - 0s 408us/sample - loss: 0.1057 - val_loss: 0.2913\n",
      "Epoch 34/50\n",
      "313/313 [==============================] - 0s 370us/sample - loss: 0.1092 - val_loss: 0.2707\n",
      "Epoch 35/50\n",
      "313/313 [==============================] - 0s 370us/sample - loss: 0.1057 - val_loss: 0.2683\n",
      "Epoch 36/50\n",
      "313/313 [==============================] - 0s 357us/sample - loss: 0.1049 - val_loss: 0.3146\n",
      "Epoch 37/50\n",
      "313/313 [==============================] - 0s 370us/sample - loss: 0.1076 - val_loss: 0.2959\n",
      "Epoch 38/50\n",
      "313/313 [==============================] - 0s 396us/sample - loss: 0.1040 - val_loss: 0.2584\n",
      "Epoch 39/50\n",
      "313/313 [==============================] - 0s 383us/sample - loss: 0.0980 - val_loss: 0.2692\n",
      "Epoch 40/50\n",
      "313/313 [==============================] - 0s 357us/sample - loss: 0.0987 - val_loss: 0.2938\n",
      "Epoch 41/50\n",
      "313/313 [==============================] - 0s 357us/sample - loss: 0.1030 - val_loss: 0.3097\n",
      "Epoch 42/50\n",
      "313/313 [==============================] - 0s 396us/sample - loss: 0.0983 - val_loss: 0.2601\n",
      "Epoch 43/50\n",
      "313/313 [==============================] - 0s 383us/sample - loss: 0.0911 - val_loss: 0.2798\n",
      "Epoch 44/50\n",
      "313/313 [==============================] - 0s 370us/sample - loss: 0.1049 - val_loss: 0.2722\n",
      "Epoch 45/50\n",
      "313/313 [==============================] - 0s 370us/sample - loss: 0.1011 - val_loss: 0.2762\n",
      "Epoch 46/50\n",
      "313/313 [==============================] - 0s 357us/sample - loss: 0.0977 - val_loss: 0.2572\n",
      "Epoch 47/50\n",
      "313/313 [==============================] - 0s 370us/sample - loss: 0.1026 - val_loss: 0.2488\n",
      "Epoch 48/50\n",
      "313/313 [==============================] - 0s 396us/sample - loss: 0.0967 - val_loss: 0.2597\n",
      "Epoch 49/50\n",
      "313/313 [==============================] - 0s 396us/sample - loss: 0.0959 - val_loss: 0.2671\n",
      "Epoch 50/50\n",
      "313/313 [==============================] - 0s 396us/sample - loss: 0.0935 - val_loss: 0.2749\n"
     ]
    },
    {
     "data": {
      "image/png": "[encoded data removed]",
      "text/plain": [
       "<Figure size 432x288 with 1 Axes>"
      ]
     },
     "metadata": {
      "needs_background": "light"
     },
     "output_type": "display_data"
    }
   ],
   "source": [
    "# design network\n",
    "regressor = Sequential()\n",
    "regressor.add(LSTM(units = 50, stateful = False, input_shape = (train_x.shape[1], train_x.shape[2])))\n",
    "# regressor.add(Dropout(0.2))\n",
    "regressor.add(Dense(units = 3))\n",
    "regressor.compile(optimizer = 'adam', loss = 'mean_squared_error')\n",
    "\n",
    "history = regressor.fit(train_x, train_y, epochs = 100, batch_size = 32, validation_data=(test_x,test_y))\n",
    "\n",
    "# plot history\n",
    "pyplot.plot(history.history['loss'], label='train')\n",
    "pyplot.plot(history.history['val_loss'], label='test')\n",
    "pyplot.legend()\n",
    "pyplot.show()\n",
    "# print(model.get_weights())"
   ]
  },
  {
   "cell_type": "code",
   "execution_count": 141,
   "metadata": {},
   "outputs": [],
   "source": [
    "predictor = Sequential()\n",
    "predictor.add(LSTM(units = 50, stateful = True, batch_input_shape = (1, None, train_x.shape[2])))\n",
    "predictor.add(Dropout(0.2))\n",
    "predictor.add(Dense(units = 3))\n",
    "predictor.compile(optimizer = 'adam', loss = 'mean_squared_error')\n",
    "\n",
    "predictor.set_weights(regressor.get_weights())\n",
    "\n"
   ]
  },
  {
   "cell_type": "code",
   "execution_count": 144,
   "metadata": {},
   "outputs": [
    {
     "name": "stdout",
     "output_type": "stream",
     "text": [
      "(394, 3)\n"
     ]
    },
    {
     "data": {
      "image/png": "[encoded data removed]",
      "text/plain": [
       "<Figure size 432x288 with 1 Axes>"
      ]
     },
     "metadata": {
      "needs_background": "light"
     },
     "output_type": "display_data"
    }
   ],
   "source": [
    "forecast_distance = 300\n",
    "\n",
    "x_given = scaled[train_count:,:]\n",
    "\n",
    "x_hat = np.zeros((x_given.shape[0] + forecast_distance, x_given.shape[1]))\n",
    "x_hat[:len(x_given),:] = x_given \n",
    "y_hat = np.zeros((x_given.shape[0] + forecast_distance))\n",
    "print(x_hat.shape)\n",
    "for i in range(shift, len(x_given)+forecast_distance):\n",
    "    pred = predictor.predict(x_hat[i-shift:i,:].reshape(1,shift, x_given.shape[1]))\n",
    "    if i >= len(x_given):\n",
    "        x_hat[i,:] = pred \n",
    "    y_hat[i] = pred[0,0]\n",
    "\n",
    "y_hat = y_hat[shift:]\n",
    "    \n",
    "yhat2 = regressor.predict(test_x)[:,0]\n",
    "\n",
    "# invert scaling for forecast\n",
    "inv_yhat = scaler2.inverse_transform(y_hat)\n",
    "# invert scaling for forecast\n",
    "inv_yhat2 = scaler2.inverse_transform(yhat2)\n",
    "# invert scaling for actual\n",
    "inv_y = scaler2.inverse_transform(test_y)[:,0]\n",
    "\n",
    "\n",
    "pyplot.figure()\n",
    "pyplot.plot(inv_y, label = 'Actual')\n",
    "pyplot.plot(inv_yhat, label = 'Forecast')\n",
    "pyplot.plot(inv_yhat2, label = 'Forecast2')\n",
    "pyplot.legend()\n",
    "pyplot.show()"
   ]
  },
  {
   "cell_type": "code",
   "execution_count": null,
   "metadata": {},
   "outputs": [],
   "source": []
  }
 ],
 "metadata": {
  "file_extension": ".py",
  "kernelspec": {
   "display_name": "Python 3",
   "language": "python",
   "name": "python3"
  },
  "language_info": {
   "codemirror_mode": {
    "name": "ipython",
    "version": 3
   },
   "file_extension": ".py",
   "mimetype": "text/x-python",
   "name": "python",
   "nbconvert_exporter": "python",
   "pygments_lexer": "ipython3",
   "version": "3.7.0"
  },
  "mimetype": "text/x-python",
  "name": "python",
  "npconvert_exporter": "python",
  "pygments_lexer": "ipython3",
  "version": 3
 },
 "nbformat": 4,
 "nbformat_minor": 4
}
