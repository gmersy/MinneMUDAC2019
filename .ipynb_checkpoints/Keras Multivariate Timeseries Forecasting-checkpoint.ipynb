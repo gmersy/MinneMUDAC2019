{
 "cells": [
  {
   "cell_type": "code",
   "execution_count": 10,
   "metadata": {},
   "outputs": [
    {
     "name": "stdout",
     "output_type": "stream",
     "text": [
      "[['11/14/2017' 978.5 978.5 978.5 978.5 4526.6 4137.5 3625.3 1934.7 16.6\n",
      "  'November' 17.2 22.7 9.21 33.43 37.0 55.5 39.69 65.0 34.46 313.52\n",
      "  228.75 165.0 205.0]\n",
      " ['11/15/2017' 985.0 985.0 985.0 985.0 4526.6 4137.5 3625.3 1934.7 16.6\n",
      "  'November' 17.2 22.7 9.21 33.43 37.0 55.5 39.69 65.0 34.46 313.52\n",
      "  228.75 165.0 205.0]\n",
      " ['11/16/2017' 983.0 983.0 983.0 983.0 4526.6 4137.5 3625.3 1934.7 16.6\n",
      "  'November' 17.2 22.7 9.21 33.43 37.0 55.5 39.69 65.0 34.46 313.52\n",
      "  228.75 165.0 205.0]\n",
      " ['11/17/2017' 996.5 996.5 996.5 996.5 4526.6 4137.5 3625.3 1934.7 16.6\n",
      "  'November' 17.2 22.7 9.21 33.43 37.0 55.5 39.69 65.0 34.46 313.52\n",
      "  228.75 165.0 205.0]\n",
      " ['11/20/2017' 998.5 998.5 998.5 998.5 4526.6 4137.5 3625.3 1934.7 16.6\n",
      "  'November' 17.2 22.7 9.21 33.43 37.0 55.5 39.69 65.0 34.46 313.52\n",
      "  228.75 165.0 205.0]]\n"
     ]
    },
    {
     "ename": "ValueError",
     "evalue": "could not convert string to float: '11/14/2017'",
     "output_type": "error",
     "traceback": [
      "\u001b[1;31m---------------------------------------------------------------------------\u001b[0m",
      "\u001b[1;31mValueError\u001b[0m                                Traceback (most recent call last)",
      "\u001b[1;32m<ipython-input-10-5d47577cb358>\u001b[0m in \u001b[0;36m<module>\u001b[1;34m\u001b[0m\n\u001b[0;32m     15\u001b[0m \u001b[0mvalues\u001b[0m \u001b[1;33m=\u001b[0m \u001b[0mdata_set\u001b[0m\u001b[1;33m.\u001b[0m\u001b[0mvalues\u001b[0m\u001b[1;33m[\u001b[0m\u001b[1;33m:\u001b[0m\u001b[1;33m,\u001b[0m\u001b[1;36m1\u001b[0m\u001b[1;33m:\u001b[0m\u001b[1;33m]\u001b[0m\u001b[1;33m\u001b[0m\u001b[0m\n\u001b[0;32m     16\u001b[0m \u001b[0mprint\u001b[0m\u001b[1;33m(\u001b[0m\u001b[0mvalues\u001b[0m\u001b[1;33m[\u001b[0m\u001b[1;33m:\u001b[0m\u001b[1;36m5\u001b[0m\u001b[1;33m,\u001b[0m\u001b[1;33m:\u001b[0m\u001b[1;33m]\u001b[0m\u001b[1;33m)\u001b[0m\u001b[1;33m\u001b[0m\u001b[0m\n\u001b[1;32m---> 17\u001b[1;33m \u001b[0mvalues\u001b[0m \u001b[1;33m=\u001b[0m \u001b[0mvalues\u001b[0m\u001b[1;33m.\u001b[0m\u001b[0mastype\u001b[0m\u001b[1;33m(\u001b[0m\u001b[1;34m'float32'\u001b[0m\u001b[1;33m)\u001b[0m\u001b[1;33m\u001b[0m\u001b[0m\n\u001b[0m\u001b[0;32m     18\u001b[0m \u001b[0minterest\u001b[0m \u001b[1;33m=\u001b[0m \u001b[1;33m[\u001b[0m\u001b[1;36m3\u001b[0m\u001b[1;33m,\u001b[0m\u001b[1;36m6\u001b[0m\u001b[1;33m,\u001b[0m\u001b[1;36m7\u001b[0m\u001b[1;33m]\u001b[0m\u001b[1;33m\u001b[0m\u001b[0m\n\u001b[0;32m     19\u001b[0m \u001b[1;33m\u001b[0m\u001b[0m\n",
      "\u001b[1;31mValueError\u001b[0m: could not convert string to float: '11/14/2017'"
     ]
    }
   ],
   "source": [
    "from pandas import read_csv \n",
    "from datetime import datetime\n",
    "import matplotlib.pyplot as pyplot\n",
    "from sklearn.preprocessing import MinMaxScaler\n",
    "\n",
    "def parse(x):\n",
    "    return datetime.strptime(x, '%m/%d/%Y')\n",
    "\n",
    "# Data Loading\n",
    "data_set = read_csv('march2020_2.csv', header=0, date_parser = parse)\n",
    "data_set = data_set.iloc[:data_set['totalSoybeanMealSupply'].last_valid_index(),:] # Truncate dataset to those where every data is available \n",
    "\n",
    "dates = data_set.values[:,0]\n",
    "\n",
    "values = data_set.values[:,2:]\n",
    "print(values[:5,:])\n",
    "values = values.astype('float32')\n",
    "interest = [3,6,7]\n",
    "\n",
    "'''\n",
    "pyplot.figure()\n",
    "for i,col in enumerate(interest):\n",
    "    ax = pyplot.subplot(len(interest), 1, i+1)\n",
    "    pyplot.plot([datetime.strptime(x,'%m/%d/%Y').date() for x in values[:,0]],values[:, col])\n",
    "    pyplot.title(data_set.columns[col], y=0.7, loc='right')\n",
    "    ax.locator_params(axis='y', nbins=4)\n",
    "    ax.locator_params(axis='x', nbins=6)\n",
    "pyplot.show()\n",
    "'''\n",
    "\n",
    "scaler = MinMaxScaler(feature_range=(0,1))\n",
    "scaled = scaler.fit_transform(values)\n",
    "print(scaled)"
   ]
  },
  {
   "cell_type": "code",
   "execution_count": null,
   "metadata": {},
   "outputs": [],
   "source": [
    "# Data Analysis"
   ]
  }
 ],
 "metadata": {
  "kernelspec": {
   "display_name": "Python 3",
   "language": "python",
   "name": "python3"
  },
  "language_info": {
   "codemirror_mode": {
    "name": "ipython",
    "version": 3
   },
   "file_extension": ".py",
   "mimetype": "text/x-python",
   "name": "python",
   "nbconvert_exporter": "python",
   "pygments_lexer": "ipython3",
   "version": "3.7.0"
  }
 },
 "nbformat": 4,
 "nbformat_minor": 4
}
