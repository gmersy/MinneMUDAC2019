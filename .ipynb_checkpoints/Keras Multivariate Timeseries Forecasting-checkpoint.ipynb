{
 "cells": [
  {
   "cell_type": "code",
   "execution_count": 5,
   "metadata": {},
   "outputs": [
    {
     "data": {
      "text/plain": [
       "0      11/14/2017\n",
       "1      11/15/2017\n",
       "2      11/16/2017\n",
       "3      11/17/2017\n",
       "4      11/20/2017\n",
       "          ...    \n",
       "447    08/26/2019\n",
       "448    08/27/2019\n",
       "449    08/28/2019\n",
       "450    08/29/2019\n",
       "451    08/30/2019\n",
       "Name: date, Length: 452, dtype: object"
      ]
     },
     "execution_count": 5,
     "metadata": {},
     "output_type": "execute_result"
    }
   ],
   "source": [
    "from pandas import read_csv \n",
    "from datetime import datetime\n",
    "\n",
    "data_set = read_csv('mudac_master.csv')\n",
    "first_col = data_set['date']\n",
    "first_col\n"
   ]
  },
  {
   "cell_type": "code",
   "execution_count": null,
   "metadata": {},
   "outputs": [],
   "source": []
  }
 ],
 "metadata": {
  "kernelspec": {
   "display_name": "Python 3",
   "language": "python",
   "name": "python3"
  },
  "language_info": {
   "codemirror_mode": {
    "name": "ipython",
    "version": 3
   },
   "file_extension": ".py",
   "mimetype": "text/x-python",
   "name": "python",
   "nbconvert_exporter": "python",
   "pygments_lexer": "ipython3",
   "version": "3.7.0"
  }
 },
 "nbformat": 4,
 "nbformat_minor": 2
}
