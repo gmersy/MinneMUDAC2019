{
 "cells": [
  {
   "cell_type": "code",
   "execution_count": 48,
   "metadata": {},
   "outputs": [],
   "source": [
    "from pandas import read_csv, DataFrame, concat\n",
    "from datetime import datetime\n",
    "import matplotlib.pyplot as pyplot\n",
    "from sklearn.preprocessing import MinMaxScaler, StandardScaler\n",
    "import tensorflow as tf\n",
    "from tensorflow import keras\n",
    "from tensorflow.keras.models import Sequential\n",
    "from tensorflow.keras.layers import Dense, LSTM\n",
    "import numpy as np \n",
    "import pandas as pd \n",
    "\n",
    "\n",
    "\n",
    "months = {'January': 1, 'February': 2, 'March': 3, 'April': 4, 'May': 5, \n",
    "          'June': 6, 'July': 7, 'August': 8, 'September': 9, 'October': 10,\n",
    "         'November': 11, 'December': 12}\n",
    "\n",
    "def encode(l):\n",
    "    encoded = []\n",
    "    for m in l:\n",
    "        for key, value in months.items():\n",
    "            if key == m:\n",
    "                encoded.append(value)\n",
    "    return encoded\n",
    "\n",
    "\n",
    "def parse(x):\n",
    "    return datetime.strptime(x, '%m/%d/%Y')\n",
    "\n",
    "# Data Loading\n",
    "data_set = pd.read_csv('march2020clean.csv', sep =',', date_parser = parse)\n",
    "data_set = data_set.iloc[:data_set['totalSoybeanMealSupply'].last_valid_index(),:] # Truncate dataset to those where every data is available \n",
    "'''\n",
    "'closePrice','openPrice','highPrice','lowPrice','totalSoybeanMealSupply','totalSoybeanMealDemand','soybeanOilSupply','soybeanOilDemand','sunflowerSeedPrice','canolaPrice','peanutsPrice','flaxseedPrice','soybeanOilPrice','cottonseedOilPrice','sunflowerseedOilPrice','canolaOilPrice','peanutOilPrice','cornOilPrice','soybeanMealPrice','cottonseedmealPrice','sunflowerseedMealPrice','linseedMealPrice'\n",
    "'''\n",
    "target_col = ['closePrice','canolaOilPrice','soybeanOilPrice','cornOilPrice','soybeanMealPrice','cottonseedmealPrice','sunflowerseedMealPrice','linseedMealPrice', 'Month']\n",
    "data_set['Month'] = encode(data_set['Month'])\n",
    "data_set = data_set.loc[:,target_col]\n"
   ]
  },
  {
   "cell_type": "code",
   "execution_count": 49,
   "metadata": {},
   "outputs": [],
   "source": [
    "data_set\n",
    "values = data_set.values\n",
    "values = values.astype('float32')\n",
    "scaler = StandardScaler()\n",
    "scaled = scaler.fit_transform(values)\n",
    "\n",
    "\n"
   ]
  },
  {
   "cell_type": "code",
   "execution_count": 50,
   "metadata": {},
   "outputs": [
    {
     "name": "stdout",
     "output_type": "stream",
     "text": [
      "(81, 5, 9)\n"
     ]
    }
   ],
   "source": [
    "def series_to_supervised(data, seq_length, y_col=0):\n",
    "    agg = [] \n",
    "    for time in range(len(data)-seq_length):\n",
    "        sequence = []\n",
    "        for i in range(seq_length):\n",
    "            row = np.concatenate((data[i+time-1],[data[i+time][y_col]]))\n",
    "            sequence += [row]\n",
    "        agg += [sequence]\n",
    "    \n",
    "    return agg\n",
    "\n",
    "data = np.asarray(series_to_supervised(scaled,5))\n",
    "\n",
    "train_count = int(len(data) * 0.8)\n",
    "train_data = data[:train_count,:,:]\n",
    "test_data = data[train_count:,:,:]\n",
    "train_x, train_y = train_data[:,:,:-1], train_data[:,:,-1]\n",
    "test_x, test_y = test_data[:,:,:-1], test_data[:,:,-1]\n",
    "print(test_x.shape)\n",
    "# Reshape input to have the form (sample, timestep, features)\n",
    "\n"
   ]
  },
  {
   "cell_type": "code",
   "execution_count": 54,
   "metadata": {},
   "outputs": [
    {
     "name": "stdout",
     "output_type": "stream",
     "text": [
      "Train on 321 samples, validate on 81 samples\n",
      "Epoch 1/50\n",
      "321/321 [==============================] - 1s 2ms/sample - loss: 966.2045 - val_loss: 923.8757\n",
      "Epoch 2/50\n",
      "321/321 [==============================] - 0s 726us/sample - loss: 966.1296 - val_loss: 923.8108\n",
      "Epoch 3/50\n",
      "321/321 [==============================] - 0s 788us/sample - loss: 966.0646 - val_loss: 923.7457\n",
      "Epoch 4/50\n",
      "321/321 [==============================] - 0s 770us/sample - loss: 965.9996 - val_loss: 923.6808\n",
      "Epoch 5/50\n",
      "321/321 [==============================] - 0s 635us/sample - loss: 965.9346 - val_loss: 923.6157\n",
      "Epoch 6/50\n",
      "321/321 [==============================] - 0s 760us/sample - loss: 965.8696 - val_loss: 923.5507\n",
      "Epoch 7/50\n",
      "321/321 [==============================] - 0s 646us/sample - loss: 965.8046 - val_loss: 923.4858\n",
      "Epoch 8/50\n",
      "321/321 [==============================] - 0s 614us/sample - loss: 965.7396 - val_loss: 923.4207\n",
      "Epoch 9/50\n",
      "321/321 [==============================] - 0s 620us/sample - loss: 965.6746 - val_loss: 923.3557\n",
      "Epoch 10/50\n",
      "321/321 [==============================] - 0s 646us/sample - loss: 965.6096 - val_loss: 923.2907\n",
      "Epoch 11/50\n",
      "321/321 [==============================] - 0s 637us/sample - loss: 965.5446 - val_loss: 923.2258\n",
      "Epoch 12/50\n",
      "321/321 [==============================] - 0s 657us/sample - loss: 965.4796 - val_loss: 923.1608\n",
      "Epoch 13/50\n",
      "321/321 [==============================] - 0s 701us/sample - loss: 965.4146 - val_loss: 923.0958\n",
      "Epoch 14/50\n",
      "321/321 [==============================] - 0s 666us/sample - loss: 965.3496 - val_loss: 923.0308\n",
      "Epoch 15/50\n",
      "321/321 [==============================] - 0s 783us/sample - loss: 965.2846 - val_loss: 922.9657\n",
      "Epoch 16/50\n",
      "321/321 [==============================] - 0s 776us/sample - loss: 965.2196 - val_loss: 922.9008\n",
      "Epoch 17/50\n",
      "321/321 [==============================] - 0s 842us/sample - loss: 965.1546 - val_loss: 922.8358\n",
      "Epoch 18/50\n",
      "321/321 [==============================] - 0s 615us/sample - loss: 965.0896 - val_loss: 922.7707\n",
      "Epoch 19/50\n",
      "321/321 [==============================] - 0s 614us/sample - loss: 965.0246 - val_loss: 922.7058\n",
      "Epoch 20/50\n",
      "321/321 [==============================] - 0s 618us/sample - loss: 964.9596 - val_loss: 922.6407\n",
      "Epoch 21/50\n",
      "321/321 [==============================] - 0s 990us/sample - loss: 964.8946 - val_loss: 922.5757\n",
      "Epoch 22/50\n",
      "321/321 [==============================] - 0s 645us/sample - loss: 964.8296 - val_loss: 922.5107\n",
      "Epoch 23/50\n",
      "321/321 [==============================] - 0s 653us/sample - loss: 964.7646 - val_loss: 922.4457\n",
      "Epoch 24/50\n",
      "321/321 [==============================] - 0s 836us/sample - loss: 964.6996 - val_loss: 922.3808\n",
      "Epoch 25/50\n",
      "321/321 [==============================] - 0s 592us/sample - loss: 964.6345 - val_loss: 922.3157\n",
      "Epoch 26/50\n",
      "321/321 [==============================] - 0s 602us/sample - loss: 964.5696 - val_loss: 922.2507\n",
      "Epoch 27/50\n",
      "321/321 [==============================] - 0s 627us/sample - loss: 964.5045 - val_loss: 922.1858\n",
      "Epoch 28/50\n",
      "321/321 [==============================] - 0s 891us/sample - loss: 964.4396 - val_loss: 922.1207\n",
      "Epoch 29/50\n",
      "321/321 [==============================] - 0s 854us/sample - loss: 964.3745 - val_loss: 922.0558\n",
      "Epoch 30/50\n",
      "321/321 [==============================] - 0s 751us/sample - loss: 964.3095 - val_loss: 921.9907\n",
      "Epoch 31/50\n",
      "321/321 [==============================] - 0s 613us/sample - loss: 964.2445 - val_loss: 921.9257\n",
      "Epoch 32/50\n",
      "321/321 [==============================] - 0s 637us/sample - loss: 964.1795 - val_loss: 921.8607\n",
      "Epoch 33/50\n",
      "321/321 [==============================] - 0s 605us/sample - loss: 964.1145 - val_loss: 921.7957\n",
      "Epoch 34/50\n",
      "321/321 [==============================] - 0s 568us/sample - loss: 964.0495 - val_loss: 921.7307\n",
      "Epoch 35/50\n",
      "321/321 [==============================] - 0s 573us/sample - loss: 963.9845 - val_loss: 921.6657\n",
      "Epoch 36/50\n",
      "321/321 [==============================] - 0s 571us/sample - loss: 963.9196 - val_loss: 921.6007\n",
      "Epoch 37/50\n",
      "321/321 [==============================] - 0s 562us/sample - loss: 963.8546 - val_loss: 921.5357\n",
      "Epoch 38/50\n",
      "321/321 [==============================] - 0s 558us/sample - loss: 963.7896 - val_loss: 921.4707\n",
      "Epoch 39/50\n",
      "321/321 [==============================] - 0s 566us/sample - loss: 963.7246 - val_loss: 921.4058\n",
      "Epoch 40/50\n",
      "321/321 [==============================] - 0s 580us/sample - loss: 963.6596 - val_loss: 921.3407\n",
      "Epoch 41/50\n",
      "321/321 [==============================] - 0s 580us/sample - loss: 963.5946 - val_loss: 921.2758\n",
      "Epoch 42/50\n",
      "321/321 [==============================] - 0s 589us/sample - loss: 963.5296 - val_loss: 921.2108\n",
      "Epoch 43/50\n",
      "321/321 [==============================] - 0s 586us/sample - loss: 963.4646 - val_loss: 921.1457\n",
      "Epoch 44/50\n",
      "321/321 [==============================] - 0s 741us/sample - loss: 963.3996 - val_loss: 921.0808\n",
      "Epoch 45/50\n",
      "321/321 [==============================] - 0s 579us/sample - loss: 963.3346 - val_loss: 921.0158\n",
      "Epoch 46/50\n",
      "321/321 [==============================] - 0s 592us/sample - loss: 963.2696 - val_loss: 920.9507\n",
      "Epoch 47/50\n",
      "321/321 [==============================] - 0s 595us/sample - loss: 963.2046 - val_loss: 920.8858\n",
      "Epoch 48/50\n",
      "321/321 [==============================] - 0s 584us/sample - loss: 963.1396 - val_loss: 920.8208\n",
      "Epoch 49/50\n",
      "321/321 [==============================] - 0s 595us/sample - loss: 963.0746 - val_loss: 920.7558\n",
      "Epoch 50/50\n",
      "321/321 [==============================] - 0s 572us/sample - loss: 963.0096 - val_loss: 920.6909\n"
     ]
    },
    {
     "data": {
      "image/png": "[encoded data removed]",
      "text/plain": [
       "<Figure size 432x288 with 1 Axes>"
      ]
     },
     "metadata": {
      "needs_background": "light"
     },
     "output_type": "display_data"
    }
   ],
   "source": [
    "# design network\n",
    "model = Sequential()\n",
    "model.add(LSTM(6, input_shape=(train_x.shape[1], train_x.shape[2])))\n",
    "model.add(Dense(1))\n",
    "model.compile(loss='mae', optimizer='adam')\n",
    "# fit network\n",
    "history = model.fit(train_x, train_y, epochs=50, batch_size=5, validation_data=(test_x, test_y))\n",
    "# plot history\n",
    "pyplot.plot(history.history['loss'], label='train')\n",
    "pyplot.plot(history.history['val_loss'], label='test')\n",
    "pyplot.legend()\n",
    "pyplot.show()\n",
    "# print(model.get_weights())"
   ]
  },
  {
   "cell_type": "code",
   "execution_count": 52,
   "metadata": {},
   "outputs": [
    {
     "name": "stdout",
     "output_type": "stream",
     "text": [
      "(81, 1)\n"
     ]
    },
    {
     "data": {
      "image/png": "[encoded data removed]",
      "text/plain": [
       "<Figure size 432x288 with 1 Axes>"
      ]
     },
     "metadata": {
      "needs_background": "light"
     },
     "output_type": "display_data"
    }
   ],
   "source": [
    "yhat = model.predict(test_x)\n",
    "print((yhat).shape)\n",
    "'''\n",
    "# invert scaling for forecast\n",
    "inv_yhat = np.concatenate((yhat, test_x[:, 1:]), axis=1)\n",
    "inv_yhat = scaler.inverse_transform(inv_yhat)\n",
    "inv_yhat = inv_yhat[:,0]\n",
    "# invert scaling for actual\n",
    "test_y = test_y.reshape((len(test_y), 1))\n",
    "inv_y = np.concatenate((test_y, test_x[:, 1:]), axis=1)\n",
    "inv_y = scaler.inverse_transform(inv_y)\n",
    "inv_y = inv_y[:,0]\n",
    "'''\n",
    "pyplot.figure()\n",
    "pyplot.plot(inv_y, label = 'Actual')\n",
    "pyplot.plot(inv_yhat, label = 'Forecast')\n",
    "pyplot.legend()\n",
    "pyplot.show()"
   ]
  },
  {
   "cell_type": "code",
   "execution_count": null,
   "metadata": {},
   "outputs": [],
   "source": []
  }
 ],
 "metadata": {
  "file_extension": ".py",
  "kernelspec": {
   "display_name": "Python 3",
   "language": "python",
   "name": "python3"
  },
  "language_info": {
   "codemirror_mode": {
    "name": "ipython",
    "version": 3
   },
   "file_extension": ".py",
   "mimetype": "text/x-python",
   "name": "python",
   "nbconvert_exporter": "python",
   "pygments_lexer": "ipython3",
   "version": "3.7.1"
  },
  "mimetype": "text/x-python",
  "name": "python",
  "npconvert_exporter": "python",
  "pygments_lexer": "ipython3",
  "version": 3
 },
 "nbformat": 4,
 "nbformat_minor": 4
}
